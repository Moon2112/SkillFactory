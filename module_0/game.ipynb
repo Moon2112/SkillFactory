{
 "cells": [
  {
   "cell_type": "markdown",
   "metadata": {},
   "source": [
    "***Итоговое задание module 0***\n",
    "\n",
    "Функцию score_game заимствовал из примера, перенес определение списка count_ls ближе к использованию.\n",
    "\n",
    "Функция game_core_v3 реализует алгоритм бинарного поиска - на каждом шаге уменьшается в 2 раза отрезок, на котором ищется число.\n",
    "\n",
    "Особенный случай - когда загаданное число - правая граница отрезка, в нашем случае - вызов game_core_v3(100). Учитывая, что в этой ветке алгоритма не выполняется отдельное сравнение с загаданным числом, то кол-во шагов поиска не возрастает."
   ]
  },
  {
   "cell_type": "code",
   "execution_count": null,
   "metadata": {},
   "outputs": [],
   "source": [
    "import numpy as np\n",
    "        \n",
    "def score_game(game_core):\n",
    "    '''Запускаем игру 1000 раз, чтобы узнать, как быстро игра угадывает число'''\n",
    "    np.random.seed(1)  # фиксируем RANDOM SEED, чтобы ваш эксперимент был воспроизводим!\n",
    "    random_array = np.random.randint(1,101, size=(1000))\n",
    "    \n",
    "    count_ls = []\n",
    "    for number in random_array:\n",
    "        count_ls.append(game_core(number))\n",
    "    \n",
    "    score = int(np.mean(count_ls))\n",
    "    print(f\"Ваш алгоритм угадывает число в среднем за {score} попыток\")\n",
    "    return(score)\n",
    "\n",
    "\n",
    "def game_core_v3(number, left_border=1, right_border=100):\n",
    "    '''реализуем бинарный поиск, оценка сложности: О(log(N))'''     \n",
    "    count = 0\n",
    "    while True:\n",
    "        count += 1\n",
    "        predict = (right_border + left_border)//2\n",
    "        if predict == number:\n",
    "            break\n",
    "        elif right_border - left_border > 1:\n",
    "            #невырожденный отрезок, делим его попалам\n",
    "            if predict < number:\n",
    "                left_border = predict\n",
    "            elif predict > number:\n",
    "                right_border = predict\n",
    "        else:\n",
    "            #отрезок из двух элементов, загаданное число - это правая граница отрезка\n",
    "            break\n",
    "    return(count)\n",
    "    \n",
    "# Проверяем\n",
    "score_game(game_core_v3)\n",
    "\n",
    "\n"
   ]
  }
 ],
 "metadata": {
  "kernelspec": {
   "display_name": "Python 3",
   "language": "python",
   "name": "python3"
  },
  "language_info": {
   "codemirror_mode": {
    "name": "ipython",
    "version": 3
   },
   "file_extension": ".py",
   "mimetype": "text/x-python",
   "name": "python",
   "nbconvert_exporter": "python",
   "pygments_lexer": "ipython3",
   "version": "3.8.3"
  }
 },
 "nbformat": 4,
 "nbformat_minor": 4
}
